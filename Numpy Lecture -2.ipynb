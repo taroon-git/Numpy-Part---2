{
 "cells": [
  {
   "cell_type": "markdown",
   "id": "284320c8-bff1-4736-aedd-ebd2d65be775",
   "metadata": {},
   "source": [
    "# Numpy - Array Manipulation"
   ]
  },
  {
   "cell_type": "code",
   "execution_count": 2,
   "id": "79bd9404-f40c-4951-96f1-5834882c332e",
   "metadata": {},
   "outputs": [],
   "source": [
    "import numpy as np"
   ]
  },
  {
   "cell_type": "code",
   "execution_count": 3,
   "id": "a34479ad-7ed2-4502-b0a6-2520750505d7",
   "metadata": {},
   "outputs": [],
   "source": [
    "arr = np.random.randint(1,10,(3,4))"
   ]
  },
  {
   "cell_type": "code",
   "execution_count": 4,
   "id": "4edf1417-6cf4-4cd7-accd-1552d8e320ff",
   "metadata": {},
   "outputs": [
    {
     "data": {
      "text/plain": [
       "array([[1, 1, 8, 9],\n",
       "       [1, 3, 6, 4],\n",
       "       [5, 2, 3, 8]])"
      ]
     },
     "execution_count": 4,
     "metadata": {},
     "output_type": "execute_result"
    }
   ],
   "source": [
    "arr"
   ]
  },
  {
   "cell_type": "code",
   "execution_count": 6,
   "id": "d0fa9fc6-79ff-4d8c-bcf4-ae4f2a7857d9",
   "metadata": {},
   "outputs": [
    {
     "data": {
      "text/plain": [
       "array([[1, 1],\n",
       "       [8, 9],\n",
       "       [1, 3],\n",
       "       [6, 4],\n",
       "       [5, 2],\n",
       "       [3, 8]])"
      ]
     },
     "execution_count": 6,
     "metadata": {},
     "output_type": "execute_result"
    }
   ],
   "source": [
    "arr.reshape(6,2) # changing data into 6X2"
   ]
  },
  {
   "cell_type": "code",
   "execution_count": 8,
   "id": "a08e8bc7-7172-4988-9274-c6167fb492c2",
   "metadata": {},
   "outputs": [
    {
     "data": {
      "text/plain": [
       "array([[1, 1, 8, 9, 1, 3],\n",
       "       [6, 4, 5, 2, 3, 8]])"
      ]
     },
     "execution_count": 8,
     "metadata": {},
     "output_type": "execute_result"
    }
   ],
   "source": [
    "arr.reshape(2,-2)"
   ]
  },
  {
   "cell_type": "code",
   "execution_count": 9,
   "id": "c11dc856-a5dc-4207-805f-d1348ec4a220",
   "metadata": {},
   "outputs": [
    {
     "data": {
      "text/plain": [
       "array([[1, 1, 5],\n",
       "       [1, 3, 2],\n",
       "       [8, 6, 3],\n",
       "       [9, 4, 8]])"
      ]
     },
     "execution_count": 9,
     "metadata": {},
     "output_type": "execute_result"
    }
   ],
   "source": [
    "arr.T"
   ]
  },
  {
   "cell_type": "code",
   "execution_count": 10,
   "id": "a5718924-63fd-4125-b1f2-1b6345ae2bc4",
   "metadata": {},
   "outputs": [
    {
     "data": {
      "text/plain": [
       "array([[1, 1, 8, 9],\n",
       "       [1, 3, 6, 4],\n",
       "       [5, 2, 3, 8]])"
      ]
     },
     "execution_count": 10,
     "metadata": {},
     "output_type": "execute_result"
    }
   ],
   "source": [
    "arr"
   ]
  },
  {
   "cell_type": "code",
   "execution_count": 11,
   "id": "3c1ee4c4-d63a-45ce-9bc2-4a1e5a1234a0",
   "metadata": {},
   "outputs": [
    {
     "data": {
      "text/plain": [
       "array([1, 1, 8, 9, 1, 3, 6, 4, 5, 2, 3, 8])"
      ]
     },
     "execution_count": 11,
     "metadata": {},
     "output_type": "execute_result"
    }
   ],
   "source": [
    "arr.flatten() # flatten() converts n-dim into 1-dimension."
   ]
  },
  {
   "cell_type": "code",
   "execution_count": 12,
   "id": "181e941a-5767-4ece-a95b-fc85dc107508",
   "metadata": {},
   "outputs": [],
   "source": [
    "arr1 = np.array([1,2,3,3,4])"
   ]
  },
  {
   "cell_type": "code",
   "execution_count": 13,
   "id": "22ba9244-0f4e-4f94-a71c-1ac74a4cfb31",
   "metadata": {},
   "outputs": [
    {
     "data": {
      "text/plain": [
       "1"
      ]
     },
     "execution_count": 13,
     "metadata": {},
     "output_type": "execute_result"
    }
   ],
   "source": [
    "arr1.ndim"
   ]
  },
  {
   "cell_type": "code",
   "execution_count": 15,
   "id": "1d044fc2-58d3-4109-b663-7d1ce25ae393",
   "metadata": {},
   "outputs": [
    {
     "data": {
      "text/plain": [
       "array([[1],\n",
       "       [2],\n",
       "       [3],\n",
       "       [3],\n",
       "       [4]])"
      ]
     },
     "execution_count": 15,
     "metadata": {},
     "output_type": "execute_result"
    }
   ],
   "source": [
    "np.expand_dims(arr1,axis=1)  # axis=1 : column and axis=0 : Row"
   ]
  },
  {
   "cell_type": "code",
   "execution_count": 16,
   "id": "eb790f64-c11a-459f-9d0d-868799a1e102",
   "metadata": {},
   "outputs": [
    {
     "data": {
      "text/plain": [
       "array([[1, 2, 3, 3, 4]])"
      ]
     },
     "execution_count": 16,
     "metadata": {},
     "output_type": "execute_result"
    }
   ],
   "source": [
    "np.expand_dims(arr1,axis=0)"
   ]
  },
  {
   "cell_type": "code",
   "execution_count": 17,
   "id": "7e481d1c-3b4a-4749-9e43-2c9be4392b7b",
   "metadata": {},
   "outputs": [
    {
     "data": {
      "text/plain": [
       "array([[1, 1, 8, 9],\n",
       "       [1, 3, 6, 4],\n",
       "       [5, 2, 3, 8]])"
      ]
     },
     "execution_count": 17,
     "metadata": {},
     "output_type": "execute_result"
    }
   ],
   "source": [
    "arr"
   ]
  },
  {
   "cell_type": "code",
   "execution_count": 18,
   "id": "69ff34cf-8b37-45a5-8f0e-85142e4fe58c",
   "metadata": {},
   "outputs": [
    {
     "data": {
      "text/plain": [
       "array([[1, 1, 8, 9],\n",
       "       [1, 3, 6, 4],\n",
       "       [5, 2, 3, 8]])"
      ]
     },
     "execution_count": 18,
     "metadata": {},
     "output_type": "execute_result"
    }
   ],
   "source": [
    "np.squeeze(arr)  # Not working here."
   ]
  },
  {
   "cell_type": "code",
   "execution_count": 19,
   "id": "a1d7c7a7-ed9d-41c6-ae3d-16d4169fccec",
   "metadata": {},
   "outputs": [],
   "source": [
    "data = np.array([[1],[2],[3]])"
   ]
  },
  {
   "cell_type": "code",
   "execution_count": 20,
   "id": "f21d1cf9-c22c-4d7b-974c-e5800c72bc0c",
   "metadata": {},
   "outputs": [
    {
     "data": {
      "text/plain": [
       "array([[1],\n",
       "       [2],\n",
       "       [3]])"
      ]
     },
     "execution_count": 20,
     "metadata": {},
     "output_type": "execute_result"
    }
   ],
   "source": [
    "data"
   ]
  },
  {
   "cell_type": "code",
   "execution_count": 22,
   "id": "37d70f0f-4a6c-4a5b-bd27-225b830d3d23",
   "metadata": {},
   "outputs": [
    {
     "data": {
      "text/plain": [
       "array([1, 2, 3])"
      ]
     },
     "execution_count": 22,
     "metadata": {},
     "output_type": "execute_result"
    }
   ],
   "source": [
    "np.squeeze(data)  # convert into 1-dimension"
   ]
  },
  {
   "cell_type": "code",
   "execution_count": 23,
   "id": "6764c799-8780-42cd-ba54-c291471a8545",
   "metadata": {},
   "outputs": [
    {
     "data": {
      "text/plain": [
       "array([1, 2, 3, 3, 4])"
      ]
     },
     "execution_count": 23,
     "metadata": {},
     "output_type": "execute_result"
    }
   ],
   "source": [
    "arr1"
   ]
  },
  {
   "cell_type": "code",
   "execution_count": 24,
   "id": "3ff395c6-d192-407c-855e-e8efb4c04262",
   "metadata": {},
   "outputs": [
    {
     "data": {
      "text/plain": [
       "array([1, 1, 1, 2, 2, 2, 3, 3, 3, 3, 3, 3, 4, 4, 4])"
      ]
     },
     "execution_count": 24,
     "metadata": {},
     "output_type": "execute_result"
    }
   ],
   "source": [
    "np.repeat(arr1,3)"
   ]
  },
  {
   "cell_type": "code",
   "execution_count": 26,
   "id": "821dc416-292a-4f8d-8404-cebcbbd658b8",
   "metadata": {},
   "outputs": [
    {
     "data": {
      "text/plain": [
       "array([3, 4, 1, 2, 3])"
      ]
     },
     "execution_count": 26,
     "metadata": {},
     "output_type": "execute_result"
    }
   ],
   "source": [
    "np.roll(arr1, 2)"
   ]
  },
  {
   "cell_type": "code",
   "execution_count": 27,
   "id": "057f0ef3-5fa9-4914-b9a5-8be29bfb27bf",
   "metadata": {},
   "outputs": [
    {
     "data": {
      "text/plain": [
       "array([1, 2, 3, 3, 4])"
      ]
     },
     "execution_count": 27,
     "metadata": {},
     "output_type": "execute_result"
    }
   ],
   "source": [
    "arr1"
   ]
  },
  {
   "cell_type": "code",
   "execution_count": 29,
   "id": "b26bae09-7410-4f91-b625-e897a9d0ae97",
   "metadata": {},
   "outputs": [
    {
     "data": {
      "text/plain": [
       "array([[1, 0, 0, 0, 0],\n",
       "       [0, 2, 0, 0, 0],\n",
       "       [0, 0, 3, 0, 0],\n",
       "       [0, 0, 0, 3, 0],\n",
       "       [0, 0, 0, 0, 4]])"
      ]
     },
     "execution_count": 29,
     "metadata": {},
     "output_type": "execute_result"
    }
   ],
   "source": [
    "np.diag(arr1) # creating a diagonal matrix"
   ]
  },
  {
   "cell_type": "markdown",
   "id": "9d8c117e-75e8-4332-b7c6-f97399dcc2a4",
   "metadata": {},
   "source": [
    "# Numpy - Binary Operations."
   ]
  },
  {
   "cell_type": "code",
   "execution_count": 30,
   "id": "830bc500-49c3-41c3-b984-f74375d928ae",
   "metadata": {},
   "outputs": [],
   "source": [
    "arr1 = np.random.randint(1,10,(3,4))"
   ]
  },
  {
   "cell_type": "code",
   "execution_count": 31,
   "id": "bf0bf547-963c-4e61-806b-3277181a96a3",
   "metadata": {},
   "outputs": [],
   "source": [
    "arr2 = np.random.randint(1,10,(3,4))"
   ]
  },
  {
   "cell_type": "code",
   "execution_count": 32,
   "id": "2150d822-03ce-4d84-9680-11d137db8562",
   "metadata": {},
   "outputs": [
    {
     "data": {
      "text/plain": [
       "array([[9, 9, 8, 8],\n",
       "       [6, 4, 4, 6],\n",
       "       [5, 8, 8, 3]])"
      ]
     },
     "execution_count": 32,
     "metadata": {},
     "output_type": "execute_result"
    }
   ],
   "source": [
    "arr1"
   ]
  },
  {
   "cell_type": "code",
   "execution_count": 33,
   "id": "c72d5b1f-1dfa-431e-aaac-96deadccfa90",
   "metadata": {},
   "outputs": [
    {
     "data": {
      "text/plain": [
       "array([[8, 4, 9, 7],\n",
       "       [2, 5, 4, 5],\n",
       "       [6, 6, 4, 9]])"
      ]
     },
     "execution_count": 33,
     "metadata": {},
     "output_type": "execute_result"
    }
   ],
   "source": [
    "arr2"
   ]
  },
  {
   "cell_type": "code",
   "execution_count": 35,
   "id": "1c2b6d0e-3eb4-4622-bb11-bb82f884701c",
   "metadata": {},
   "outputs": [
    {
     "data": {
      "text/plain": [
       "array([[17, 13, 17, 15],\n",
       "       [ 8,  9,  8, 11],\n",
       "       [11, 14, 12, 12]])"
      ]
     },
     "execution_count": 35,
     "metadata": {},
     "output_type": "execute_result"
    }
   ],
   "source": [
    "arr1 + arr2 # Performing Binary sum"
   ]
  },
  {
   "cell_type": "code",
   "execution_count": 36,
   "id": "f04edf29-97d9-4525-b313-1c734bb662ca",
   "metadata": {},
   "outputs": [
    {
     "data": {
      "text/plain": [
       "array([[1.125     , 2.25      , 0.88888889, 1.14285714],\n",
       "       [3.        , 0.8       , 1.        , 1.2       ],\n",
       "       [0.83333333, 1.33333333, 2.        , 0.33333333]])"
      ]
     },
     "execution_count": 36,
     "metadata": {},
     "output_type": "execute_result"
    }
   ],
   "source": [
    "arr1 / arr2"
   ]
  },
  {
   "cell_type": "code",
   "execution_count": 37,
   "id": "eb097b16-9369-4fd1-8851-7f4fa5dfc894",
   "metadata": {},
   "outputs": [
    {
     "data": {
      "text/plain": [
       "array([[ 1,  5, -1,  1],\n",
       "       [ 4, -1,  0,  1],\n",
       "       [-1,  2,  4, -6]])"
      ]
     },
     "execution_count": 37,
     "metadata": {},
     "output_type": "execute_result"
    }
   ],
   "source": [
    "arr1 - arr2"
   ]
  },
  {
   "cell_type": "code",
   "execution_count": 38,
   "id": "b18e4b61-ce7a-452f-b0cc-8e31f85b66e4",
   "metadata": {},
   "outputs": [
    {
     "data": {
      "text/plain": [
       "array([[1, 1, 8, 1],\n",
       "       [0, 4, 0, 1],\n",
       "       [5, 2, 0, 3]])"
      ]
     },
     "execution_count": 38,
     "metadata": {},
     "output_type": "execute_result"
    }
   ],
   "source": [
    "arr1%arr2"
   ]
  },
  {
   "cell_type": "code",
   "execution_count": 39,
   "id": "ac7afed5-2401-4afb-97d1-505bb02ae76a",
   "metadata": {},
   "outputs": [
    {
     "data": {
      "text/plain": [
       "array([[ 43046721,      6561, 134217728,   2097152],\n",
       "       [       36,      1024,       256,      7776],\n",
       "       [    15625,    262144,      4096,     19683]])"
      ]
     },
     "execution_count": 39,
     "metadata": {},
     "output_type": "execute_result"
    }
   ],
   "source": [
    "arr1 ** arr2"
   ]
  },
  {
   "cell_type": "code",
   "execution_count": 40,
   "id": "80fabcee-4803-4506-a931-86d83dc81865",
   "metadata": {},
   "outputs": [
    {
     "data": {
      "text/plain": [
       "array([[8, 0, 8, 0],\n",
       "       [2, 4, 4, 4],\n",
       "       [4, 0, 0, 1]])"
      ]
     },
     "execution_count": 40,
     "metadata": {},
     "output_type": "execute_result"
    }
   ],
   "source": [
    "arr1 & arr2"
   ]
  },
  {
   "cell_type": "code",
   "execution_count": 41,
   "id": "afdb7d42-d2a4-4673-a8df-e1861ba80b51",
   "metadata": {},
   "outputs": [
    {
     "data": {
      "text/plain": [
       "array([[-10, -10,  -9,  -9],\n",
       "       [ -7,  -5,  -5,  -7],\n",
       "       [ -6,  -9,  -9,  -4]])"
      ]
     },
     "execution_count": 41,
     "metadata": {},
     "output_type": "execute_result"
    }
   ],
   "source": [
    "~arr1"
   ]
  },
  {
   "cell_type": "code",
   "execution_count": 42,
   "id": "c2791178-7815-4fab-a90d-8e5b61777498",
   "metadata": {},
   "outputs": [
    {
     "data": {
      "text/plain": [
       "array([[ 9, 13,  9, 15],\n",
       "       [ 6,  5,  4,  7],\n",
       "       [ 7, 14, 12, 11]])"
      ]
     },
     "execution_count": 42,
     "metadata": {},
     "output_type": "execute_result"
    }
   ],
   "source": [
    "arr1 | arr2"
   ]
  },
  {
   "cell_type": "markdown",
   "id": "dfca692f-b41f-4920-9dca-d93d2a588cd5",
   "metadata": {},
   "source": [
    "# Numpy - String Functions."
   ]
  },
  {
   "cell_type": "code",
   "execution_count": 44,
   "id": "11e81db5-e2fc-4d15-bed7-63675c065351",
   "metadata": {},
   "outputs": [],
   "source": [
    "arr = np.array(['Tarun','kumar'])"
   ]
  },
  {
   "cell_type": "code",
   "execution_count": 45,
   "id": "300de7c9-cae2-46a9-aa27-4873b522c156",
   "metadata": {},
   "outputs": [
    {
     "data": {
      "text/plain": [
       "array(['Tarun', 'kumar'], dtype='<U5')"
      ]
     },
     "execution_count": 45,
     "metadata": {},
     "output_type": "execute_result"
    }
   ],
   "source": [
    "arr"
   ]
  },
  {
   "cell_type": "code",
   "execution_count": 46,
   "id": "89ac31e4-acfa-464e-a161-70dcb6017e0f",
   "metadata": {},
   "outputs": [
    {
     "data": {
      "text/plain": [
       "array(['TARUN', 'KUMAR'], dtype='<U5')"
      ]
     },
     "execution_count": 46,
     "metadata": {},
     "output_type": "execute_result"
    }
   ],
   "source": [
    "np.char.upper(arr)"
   ]
  },
  {
   "cell_type": "code",
   "execution_count": 47,
   "id": "23b23604-0c37-460e-a03b-6935153be6e4",
   "metadata": {},
   "outputs": [
    {
     "data": {
      "text/plain": [
       "array(['Tarun', 'Kumar'], dtype='<U5')"
      ]
     },
     "execution_count": 47,
     "metadata": {},
     "output_type": "execute_result"
    }
   ],
   "source": [
    "np.char.title(arr)"
   ]
  },
  {
   "cell_type": "code",
   "execution_count": 48,
   "id": "592fbb38-9f0d-4173-9858-49044636ac73",
   "metadata": {},
   "outputs": [
    {
     "data": {
      "text/plain": [
       "array(['Tarun', 'Kumar'], dtype='<U5')"
      ]
     },
     "execution_count": 48,
     "metadata": {},
     "output_type": "execute_result"
    }
   ],
   "source": [
    "np.char.capitalize(arr)"
   ]
  },
  {
   "cell_type": "markdown",
   "id": "10572114-c2cf-40d0-8d23-2d2b50b5196d",
   "metadata": {},
   "source": [
    "# Numpy - Mathematical Fuctions."
   ]
  },
  {
   "cell_type": "code",
   "execution_count": 49,
   "id": "7114a38c-1b4d-4b5a-8ae0-04c394bea0e6",
   "metadata": {},
   "outputs": [
    {
     "data": {
      "text/plain": [
       "array([[9, 9, 8, 8],\n",
       "       [6, 4, 4, 6],\n",
       "       [5, 8, 8, 3]])"
      ]
     },
     "execution_count": 49,
     "metadata": {},
     "output_type": "execute_result"
    }
   ],
   "source": [
    "arr1 "
   ]
  },
  {
   "cell_type": "code",
   "execution_count": 51,
   "id": "bf862f9d-cb5b-43f5-bb72-dd4741724708",
   "metadata": {},
   "outputs": [
    {
     "data": {
      "text/plain": [
       "array([[ 0.41211849,  0.41211849,  0.98935825,  0.98935825],\n",
       "       [-0.2794155 , -0.7568025 , -0.7568025 , -0.2794155 ],\n",
       "       [-0.95892427,  0.98935825,  0.98935825,  0.14112001]])"
      ]
     },
     "execution_count": 51,
     "metadata": {},
     "output_type": "execute_result"
    }
   ],
   "source": [
    "np.sin(arr1)"
   ]
  },
  {
   "cell_type": "code",
   "execution_count": 53,
   "id": "e7423ff7-7865-4abf-9bfe-77eb669b1bbd",
   "metadata": {},
   "outputs": [
    {
     "data": {
      "text/plain": [
       "array([[-0.91113026, -0.91113026, -0.14550003, -0.14550003],\n",
       "       [ 0.96017029, -0.65364362, -0.65364362,  0.96017029],\n",
       "       [ 0.28366219, -0.14550003, -0.14550003, -0.9899925 ]])"
      ]
     },
     "execution_count": 53,
     "metadata": {},
     "output_type": "execute_result"
    }
   ],
   "source": [
    "np.cos(arr1)"
   ]
  },
  {
   "cell_type": "code",
   "execution_count": 54,
   "id": "4a7f9b04-0525-43ba-857b-7996869eb99e",
   "metadata": {},
   "outputs": [
    {
     "data": {
      "text/plain": [
       "array([[-0.45231566, -0.45231566, -6.79971146, -6.79971146],\n",
       "       [-0.29100619,  1.15782128,  1.15782128, -0.29100619],\n",
       "       [-3.38051501, -6.79971146, -6.79971146, -0.14254654]])"
      ]
     },
     "execution_count": 54,
     "metadata": {},
     "output_type": "execute_result"
    }
   ],
   "source": [
    "np.tan(arr1)"
   ]
  },
  {
   "cell_type": "code",
   "execution_count": 55,
   "id": "3424e563-3056-4b7a-8228-668e7ba4a4e5",
   "metadata": {},
   "outputs": [],
   "source": [
    "# We can use any mathematical operations according to their need."
   ]
  },
  {
   "cell_type": "code",
   "execution_count": 56,
   "id": "84b2eceb-50a3-4f93-9bc2-fabd5132ade8",
   "metadata": {},
   "outputs": [
    {
     "data": {
      "text/plain": [
       "array([[0.99999997, 0.99999997, 0.99999977, 0.99999977],\n",
       "       [0.99998771, 0.9993293 , 0.9993293 , 0.99998771],\n",
       "       [0.9999092 , 0.99999977, 0.99999977, 0.99505475]])"
      ]
     },
     "execution_count": 56,
     "metadata": {},
     "output_type": "execute_result"
    }
   ],
   "source": [
    "np.tanh(arr1)"
   ]
  },
  {
   "cell_type": "code",
   "execution_count": 57,
   "id": "5841354f-df95-459b-97f2-1d825ab72ac8",
   "metadata": {},
   "outputs": [
    {
     "data": {
      "text/plain": [
       "array([[0.95424251, 0.95424251, 0.90308999, 0.90308999],\n",
       "       [0.77815125, 0.60205999, 0.60205999, 0.77815125],\n",
       "       [0.69897   , 0.90308999, 0.90308999, 0.47712125]])"
      ]
     },
     "execution_count": 57,
     "metadata": {},
     "output_type": "execute_result"
    }
   ],
   "source": [
    "np.log10(arr1)"
   ]
  },
  {
   "cell_type": "code",
   "execution_count": 58,
   "id": "d88f68d5-e101-4dbf-82d1-1f19a092e3fd",
   "metadata": {},
   "outputs": [
    {
     "data": {
      "text/plain": [
       "array([[8103.08392758, 8103.08392758, 2980.95798704, 2980.95798704],\n",
       "       [ 403.42879349,   54.59815003,   54.59815003,  403.42879349],\n",
       "       [ 148.4131591 , 2980.95798704, 2980.95798704,   20.08553692]])"
      ]
     },
     "execution_count": 58,
     "metadata": {},
     "output_type": "execute_result"
    }
   ],
   "source": [
    "np.exp(arr1)"
   ]
  },
  {
   "cell_type": "code",
   "execution_count": 60,
   "id": "9df3a56e-810d-480a-9988-80d7c3fa9416",
   "metadata": {},
   "outputs": [
    {
     "data": {
      "text/plain": [
       "array([[81, 81, 64, 64],\n",
       "       [36, 16, 16, 36],\n",
       "       [25, 64, 64,  9]])"
      ]
     },
     "execution_count": 60,
     "metadata": {},
     "output_type": "execute_result"
    }
   ],
   "source": [
    "np.power(arr1,2)"
   ]
  },
  {
   "cell_type": "code",
   "execution_count": 61,
   "id": "f23de6cd-dfb8-47f5-9abd-8bdbcc78987b",
   "metadata": {},
   "outputs": [
    {
     "data": {
      "text/plain": [
       "array([[3.        , 3.        , 2.82842712, 2.82842712],\n",
       "       [2.44948974, 2.        , 2.        , 2.44948974],\n",
       "       [2.23606798, 2.82842712, 2.82842712, 1.73205081]])"
      ]
     },
     "execution_count": 61,
     "metadata": {},
     "output_type": "execute_result"
    }
   ],
   "source": [
    "np.sqrt(arr1)"
   ]
  },
  {
   "cell_type": "code",
   "execution_count": 62,
   "id": "558a7519-d071-451e-8033-b5d3119cb56a",
   "metadata": {},
   "outputs": [
    {
     "data": {
      "text/plain": [
       "6.5"
      ]
     },
     "execution_count": 62,
     "metadata": {},
     "output_type": "execute_result"
    }
   ],
   "source": [
    "np.mean(arr1)"
   ]
  },
  {
   "cell_type": "code",
   "execution_count": 63,
   "id": "a1dd5bf4-cb4a-4c68-8e94-c05d9a906139",
   "metadata": {},
   "outputs": [
    {
     "data": {
      "text/plain": [
       "7.0"
      ]
     },
     "execution_count": 63,
     "metadata": {},
     "output_type": "execute_result"
    }
   ],
   "source": [
    "np.median(arr1)"
   ]
  },
  {
   "cell_type": "code",
   "execution_count": 66,
   "id": "cb227bcb-75dd-4c62-8bc6-7906df60c391",
   "metadata": {},
   "outputs": [
    {
     "data": {
      "text/plain": [
       "2.0207259421636903"
      ]
     },
     "execution_count": 66,
     "metadata": {},
     "output_type": "execute_result"
    }
   ],
   "source": [
    "np.std(arr1)"
   ]
  },
  {
   "cell_type": "code",
   "execution_count": 69,
   "id": "675f8a8d-2a2c-4adf-8006-e2d81428950a",
   "metadata": {},
   "outputs": [
    {
     "data": {
      "text/plain": [
       "array([[1, 1, 0, 0],\n",
       "       [0, 0, 0, 0],\n",
       "       [1, 0, 0, 1]])"
      ]
     },
     "execution_count": 69,
     "metadata": {},
     "output_type": "execute_result"
    }
   ],
   "source": [
    "# np.mod(arr1,2)"
   ]
  },
  {
   "cell_type": "code",
   "execution_count": 71,
   "id": "60c45f13-e1e4-4727-8801-2d7d48a6f71b",
   "metadata": {},
   "outputs": [
    {
     "data": {
      "text/plain": [
       "array([[9, 9, 8, 8],\n",
       "       [6, 4, 4, 6],\n",
       "       [5, 8, 8, 3]])"
      ]
     },
     "execution_count": 71,
     "metadata": {},
     "output_type": "execute_result"
    }
   ],
   "source": [
    "arr1"
   ]
  },
  {
   "cell_type": "code",
   "execution_count": 72,
   "id": "879f136c-8314-45ed-8a36-de5b015d9e67",
   "metadata": {},
   "outputs": [
    {
     "data": {
      "text/plain": [
       "3"
      ]
     },
     "execution_count": 72,
     "metadata": {},
     "output_type": "execute_result"
    }
   ],
   "source": [
    "np.min(arr1)"
   ]
  },
  {
   "cell_type": "code",
   "execution_count": 73,
   "id": "86303fe7-5cc3-4ef5-9baf-f7ec3eb63db3",
   "metadata": {},
   "outputs": [
    {
     "data": {
      "text/plain": [
       "9"
      ]
     },
     "execution_count": 73,
     "metadata": {},
     "output_type": "execute_result"
    }
   ],
   "source": [
    "np.max(arr1)"
   ]
  },
  {
   "cell_type": "code",
   "execution_count": 74,
   "id": "feabb7be-2266-4135-8561-7cb2dc3c3506",
   "metadata": {},
   "outputs": [
    {
     "data": {
      "text/plain": [
       "4.083333333333333"
      ]
     },
     "execution_count": 74,
     "metadata": {},
     "output_type": "execute_result"
    }
   ],
   "source": [
    "np.var(arr1)"
   ]
  },
  {
   "cell_type": "code",
   "execution_count": null,
   "id": "0e72a518-52b0-4a5f-8910-6a884c5ec77c",
   "metadata": {},
   "outputs": [],
   "source": []
  }
 ],
 "metadata": {
  "kernelspec": {
   "display_name": "Python 3 (ipykernel)",
   "language": "python",
   "name": "python3"
  },
  "language_info": {
   "codemirror_mode": {
    "name": "ipython",
    "version": 3
   },
   "file_extension": ".py",
   "mimetype": "text/x-python",
   "name": "python",
   "nbconvert_exporter": "python",
   "pygments_lexer": "ipython3",
   "version": "3.10.8"
  }
 },
 "nbformat": 4,
 "nbformat_minor": 5
}
